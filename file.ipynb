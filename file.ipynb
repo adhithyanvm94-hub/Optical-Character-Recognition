{
 "cells": [
  {
   "cell_type": "code",
   "execution_count": 1,
   "id": "6e5f5f29",
   "metadata": {},
   "outputs": [],
   "source": [
    "from PIL import Image\n",
    "import pytesseract\n",
    "import cv2\n",
    "import pyttsx3"
   ]
  },
  {
   "cell_type": "code",
   "execution_count": 2,
   "id": "53ce7e6a",
   "metadata": {},
   "outputs": [],
   "source": [
    "\n",
    "\n",
    "pytesseract.pytesseract.tesseract_cmd = r\"C:\\Program Files\\Tesseract-OCR\\tesseract.exe\"\n"
   ]
  },
  {
   "cell_type": "code",
   "execution_count": 3,
   "id": "97193687",
   "metadata": {},
   "outputs": [],
   "source": [
    "# Load the image using OpenCV\n",
    "img = cv2.imread(\"sample_image.png\")  # Replace with your image path\n",
    "\n",
    "# Convert to grayscale\n",
    "gray = cv2.cvtColor(img, cv2.COLOR_BGR2GRAY)\n",
    "\n",
    "# Optional: Apply thresholding to make text clearer\n",
    "_, thresh = cv2.threshold(gray, 150, 255, cv2.THRESH_BINARY)\n",
    "\n",
    "# Convert OpenCV image to PIL Image for pytesseract\n",
    "processed_image = Image.fromarray(thresh)\n"
   ]
  },
  {
   "cell_type": "code",
   "execution_count": 4,
   "id": "cc775615",
   "metadata": {},
   "outputs": [
    {
     "name": "stdout",
     "output_type": "stream",
     "text": [
      "OPTICAL CHARACTER\n",
      "RECOGNITION (OCR)\n",
      "\n",
      "Optical Character Recognition\n",
      "(OCR) is a technology that converts\n",
      "different types of documents—such\n",
      "as scanned paper documents, PDFs,\n",
      "or images captured by a camera—\n",
      "into editable and searchable data.\n",
      "See now you can.\n",
      "\n"
     ]
    }
   ],
   "source": [
    "text = pytesseract.image_to_string(processed_image)\n",
    "print(text)"
   ]
  },
  {
   "cell_type": "code",
   "execution_count": 5,
   "id": "51e40674",
   "metadata": {},
   "outputs": [],
   "source": [
    "# Initialize pyttsx3 engine for text-to-speech\n",
    "engine = pyttsx3.init()\n",
    "engine.setProperty('rate', 150)    # Speed of speech\n",
    "engine.setProperty('volume', 1.0)  # Volume (0.0 to 1.0)"
   ]
  },
  {
   "cell_type": "code",
   "execution_count": 6,
   "id": "939c9bdc",
   "metadata": {},
   "outputs": [],
   "source": [
    "# Convert text to speech\n",
    "engine.say(text)\n",
    "engine.runAndWait()"
   ]
  }
 ],
 "metadata": {
  "kernelspec": {
   "display_name": "myenv",
   "language": "python",
   "name": "python3"
  },
  "language_info": {
   "codemirror_mode": {
    "name": "ipython",
    "version": 3
   },
   "file_extension": ".py",
   "mimetype": "text/x-python",
   "name": "python",
   "nbconvert_exporter": "python",
   "pygments_lexer": "ipython3",
   "version": "3.10.0"
  }
 },
 "nbformat": 4,
 "nbformat_minor": 5
}
